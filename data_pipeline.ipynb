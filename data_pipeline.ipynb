{
 "cells": [
  {
   "cell_type": "code",
   "execution_count": null,
   "metadata": {},
   "outputs": [],
   "source": [
    "import os"
   ]
  },
  {
   "cell_type": "code",
   "execution_count": null,
   "metadata": {},
   "outputs": [],
   "source": [
    "os.system(f'rm -rf 0_raw 1_renamed 2_renamed')\n",
    "os.system(f'cp -r bkp/0_raw .')\n",
    "os.system(f'rm -rf 0_raw/nurse_18') #TODO: after this is labeled we can remove this line\n",
    "os.system(f'rm -rf 0_raw/nurse_1') #TODO: duplicate of Elizabeth Nease\n",
    "os.system(f'rm -rf 0_raw/nurse_2') #TODO: duplicate of WatchA_13\n",
    "raw = sorted(os.listdir(f'0_raw'))\n",
    "print(len(raw),raw)\n",
    "os.makedirs(f'1_renamed')\n",
    "for i,dir in enumerate(raw):\n",
    "    command = f'cp -r \\\"0_raw/{dir}\\\" 1_renamed/{i}'\n",
    "    os.system(command)\n",
    "for dir in os.listdir(f'1_renamed'):\n",
    "    subdirs = os.listdir(f'1_renamed/{dir}')\n",
    "    if subdirs == ['files']:\n",
    "        subdirs = os.listdir(f'1_renamed/{dir}/files')\n",
    "        for subdir in subdirs:\n",
    "            command = f'mv 1_renamed/{dir}/files/{subdir} 1_renamed/{dir}'\n",
    "            os.system(command)\n",
    "        os.system(f'rm -rf 1_renamed/{dir}/files')\n",
    "for dir in os.listdir(f'1_renamed'):\n",
    "    subdirs = os.listdir(f'1_renamed/{dir}')\n",
    "    if \".DS_Store\" in subdirs:\n",
    "        os.system(f'rm 1_renamed/{dir}/.DS_Store')"
   ]
  },
  {
   "cell_type": "code",
   "execution_count": null,
   "metadata": {},
   "outputs": [],
   "source": [
    "andrew_to_kuba_id_mapping = {\n",
    "    '0':'08',\n",
    "    '1':'09',\n",
    "    '2':'07',\n",
    "    '3':'13',\n",
    "    '4':'16',\n",
    "    '5':'00',\n",
    "    '6':'01',\n",
    "    '7':'14',\n",
    "    '8':'15',\n",
    "    '9':'06',\n",
    "    '10':'11',\n",
    "    '11':'05',\n",
    "    '12':'04',\n",
    "    '13':'03',\n",
    "    '14':'02'\n",
    "}"
   ]
  },
  {
   "cell_type": "code",
   "execution_count": null,
   "metadata": {},
   "outputs": [],
   "source": [
    "to_remove_from_andrew = {\n",
    "    '0':['2010-01-06_21_15_44','2024-02-26_10_59_31', '2024-02-26_11_00_03'], # confirmed empty,\n",
    "    '1':[], # none to remove\n",
    "    '2':['2024-02-26_10_57_37','2024-03-01_08_46_39','2024-03-15_13_02_11','2024-03-15_15_45_57'], # 2024-03-15_13_02_11 unlabeled\n",
    "    '3':['2024-02-26_11_00_13', '2024-02-26_11_00_43','2024-02-27_17_58_58','2024-03-18_16_52_32'], # all empty\n",
    "    '4':['2024-03-17_22_50_49', '2024-03-18_11_17_34', '2024-03-18_12_28_41', '2024-03-18_12_29_39','2024-03-20_11_12_07', '2024-03-20_11_13_06','2024-03-22_13_29_00','2024-03-22_13_33_23','2024-03-25_12_08_49','2024-03-26_21_02_37'],#'2024-03-22_13_33_23' not in kuba but not labeled\n",
    "    '5':['2024-01-14_19_40_58','2024-01-13_15_11_08','2024-01-13_15_11_31'], #'2024-01-13_15_11_31' unlabeled\n",
    "    '6':['2024-01-17_20_26_08'], # empty\n",
    "    '7':['2024-02-06_19_21_36','2024-02-07_10_36_47','2024-02-07_10_58_09','2024-02-07_11_00_52','2024-02-07_11_30_42'], # confirmed empty\n",
    "    '8':['2023-01-10_08_31_59', '2023-01-10_08_44_48', '2023-01-19_11_41_20', '2023-01-19_17_40_51', '2023-01-19_17_44_12'], #  '2023-01-19_11_41_20', '2023-01-19_17_40_51', '2023-01-19_17_44_12' unlabeled\n",
    "    '9':['2023-01-27_14_55_00', '2023-01-31_08_50_07', '2023-01-31_12_13_08'], # TODO : not found in kuba, but not empty, just not labeled\n",
    "    '10':['2024-02-06_19_26_02', '2024-02-07_12_01_06', '2024-02-21_00_16_09', '2024-02-21_00_16_15', '2024-02-21_00_16_22'],# all empty\n",
    "    '11':['2024-02-06_19_09_17', '2024-02-07_11_04_37', '2024-02-07_11_53_32', '2024-02-14_16_04_24', '2024-02-16_13_32_38'], # '2024-02-14_16_04_24', '2024-02-16_13_32_38' unlabeled\n",
    "    '12':['2024-02-06_19_04_25', '2024-02-07_10_56_06', '2024-02-07_11_37_57', '2024-02-09_13_32_52', '2024-02-11_13_03_00', '2024-02-11_13_07_05', '2024-02-13_18_21_53'],#'2024-02-09_13_32_52','2024-02-11_13_03_00','2024-02-11_13_07_05', '2024-02-13_18_21_53'\n",
    "    '13':['2024-02-26_11_00_02'],# empty\n",
    "    '14':['2023-10-27_09_11_25', '2023-10-27_11_25_09'], #empty\n",
    "}\n",
    "for id in to_remove_from_andrew:\n",
    "    for recording in to_remove_from_andrew[id]:\n",
    "        os.system(f'rm -rf 1_renamed/{id}/{recording}')"
   ]
  },
  {
   "cell_type": "code",
   "execution_count": null,
   "metadata": {},
   "outputs": [],
   "source": [
    "# andrew_ids = os.listdir(f'1_renamed')\n",
    "# kuba_ids = os.listdir(f'kuba_labels')\n",
    "# andrew_id = '14'\n",
    "# print(raw[int(andrew_id)])\n",
    "# kuba_id = andrew_to_kuba_id_mapping[andrew_id]\n",
    "# kuba_recordings = sorted(os.listdir(f'kuba_labels/{kuba_id}'))\n",
    "# andrew_recordings = sorted(os.listdir(f'1_renamed/{andrew_id}'))\n",
    "# print(len(andrew_recordings),len(kuba_recordings))\n",
    "# print('andr',andrew_recordings)\n",
    "# print('kuba',kuba_recordings)\n",
    "# print(andrew_recordings == kuba_recordings)\n",
    "# print([andrew_recording for andrew_recording in andrew_recordings if andrew_recording not in kuba_recordings])\n",
    "\n",
    "# # find which kuba id is each andrew id\n",
    "# recordings = sorted(os.listdir(f'1_renamed/{andrew_id}'))\n",
    "# already_found = list(andrew_to_kuba_id_mapping.values())\n",
    "# print(andrew_id,recordings)\n",
    "# print('----')\n",
    "# for kuba_id in kuba_ids:\n",
    "#     if kuba_id in already_found:\n",
    "#         continue\n",
    "#     if kuba_id == \".DS_Store\":\n",
    "#         continue\n",
    "#     kuba_recordings = sorted(os.listdir(f'kuba_labels/{kuba_id}'))\n",
    "#     print(kuba_id,kuba_recordings)\n",
    "#     if recordings == kuba_recordings:\n",
    "#         print(\"FOUND\")\n",
    "#     print(kuba_recordings[0] in recordings)"
   ]
  },
  {
   "cell_type": "code",
   "execution_count": null,
   "metadata": {},
   "outputs": [],
   "source": [
    "for dir in os.listdir(f'1_renamed'):\n",
    "    subdirs = sorted(os.listdir(f'1_renamed/{dir}'))\n",
    "    # print(subdirs)\n",
    "    print(dir,andrew_to_kuba_id_mapping[dir])\n",
    "    "
   ]
  },
  {
   "cell_type": "code",
   "execution_count": null,
   "metadata": {},
   "outputs": [],
   "source": [
    "os.makedirs(f'kuba_labels_renamed',exist_ok=True)\n",
    "\n",
    "for dir in os.listdir(f'1_renamed'):\n",
    "    print(dir,andrew_to_kuba_id_mapping[dir])\n",
    "    os.makedirs(f'kuba_labels_renamed/{dir}',exist_ok=True)\n",
    "    subdirs = sorted(os.listdir(f'kuba_labels/{andrew_to_kuba_id_mapping[dir]}'))\n",
    "    print(subdirs)\n",
    "    for i,subdir in enumerate(subdirs):\n",
    "        command = f'cp -r kuba_labels/{andrew_to_kuba_id_mapping[dir]}/{subdir} kuba_labels_renamed/{dir}/{i}'\n",
    "        print(command)\n",
    "        os.system(command)"
   ]
  },
  {
   "cell_type": "code",
   "execution_count": null,
   "metadata": {},
   "outputs": [],
   "source": [
    "os.makedirs(f'2_renamed')"
   ]
  },
  {
   "cell_type": "code",
   "execution_count": null,
   "metadata": {},
   "outputs": [],
   "source": [
    "for dir in os.listdir(f'1_renamed'):\n",
    "    os.makedirs(f'2_renamed/{dir}')\n",
    "    subdirs = sorted(os.listdir(f'1_renamed/{dir}'))\n",
    "    for i,subdir in enumerate(subdirs):\n",
    "        command = f'cp -r 1_renamed/{dir}/{subdir} 2_renamed/{dir}/{i}'\n",
    "        print(command)\n",
    "        os.system(command)"
   ]
  },
  {
   "cell_type": "code",
   "execution_count": null,
   "metadata": {},
   "outputs": [],
   "source": [
    "for dir in os.listdir(f'2_renamed'):\n",
    "    subdirs = sorted(os.listdir(f'2_renamed/{dir}'))\n",
    "    for subdir in subdirs:\n",
    "        command = f'rm 2_renamed/{dir}/{subdir}/info.json 2_renamed/{dir}/{subdir}/log.csv'\n",
    "        print(command)\n",
    "        os.system(command)"
   ]
  },
  {
   "cell_type": "code",
   "execution_count": null,
   "metadata": {},
   "outputs": [],
   "source": [
    "print(sorted(os.listdir('2_renamed')) == sorted(os.listdir('kuba_labels_renamed')))\n",
    "for dir in sorted(os.listdir('2_renamed')):\n",
    "    print(sorted(os.listdir(f'2_renamed/{dir}')) == sorted(os.listdir(f'kuba_labels_renamed/{dir}')))\n",
    "    for subdir in sorted(os.listdir(f'2_renamed/{dir}')):\n",
    "        print(dir,subdir)\n",
    "        a = pd.read_csv(f'2_renamed/{dir}/{subdir}/acceleration.csv',skiprows=1)\n",
    "        b = pd.read_csv(f'kuba_labels_renamed/{dir}/{subdir}/acceleration.csv',skiprows=1)\n",
    "        print((a==b).all())"
   ]
  },
  {
   "cell_type": "code",
   "execution_count": null,
   "metadata": {},
   "outputs": [],
   "source": [
    "import pandas as pd\n",
    "os.makedirs(f'3_combined',exist_ok=True)\n",
    "\n",
    "for id in os.listdir(f'2_renamed'):\n",
    "    print(f'id {id}')\n",
    "    os.makedirs(f'3_combined/{id}',exist_ok=True)\n",
    "    recordings = sorted(os.listdir(f'2_renamed/{id}'))\n",
    "    print(recordings)\n",
    "    for recording in recordings:\n",
    "        print(f'recording {recording}')\n",
    "        RECORDING_DIR = f'2_renamed/{id}/{recording}'\n",
    "        if os.path.exists(f'3_combined/{id}/{recording}.csv'):\n",
    "            continue\n",
    "        acceleration = pd.read_csv(f'{RECORDING_DIR}/acceleration.csv',skiprows=1)\n",
    "        gyroscope = pd.read_csv(f'{RECORDING_DIR}/gyroscope.csv',skiprows=1).rename({'x':'x_gyr','y':'y_gyr','z':'z_gyr'},axis=1)\n",
    "        gyroscope.timestamp = (gyroscope.timestamp - acceleration.timestamp[0])*1e-9\n",
    "        acceleration.timestamp = (acceleration.timestamp - acceleration.timestamp[0])*1e-9\n",
    "        # Convert the timestamp columns to a datetime format if not already\n",
    "        acceleration['timestamp'] = pd.to_datetime(acceleration['timestamp'], unit='s')\n",
    "        gyroscope['timestamp'] = pd.to_datetime(gyroscope['timestamp'], unit='s')\n",
    "        # Set the timestamp as the index\n",
    "        acceleration.set_index('timestamp', inplace=True)\n",
    "        gyroscope.set_index('timestamp', inplace=True)\n",
    "        # Resample to a common frequency, for example, 100Hz (10ms intervals)\n",
    "        # You can adjust the frequency to suit your data\n",
    "        freq = '10L'  # 10 milliseconds\n",
    "        acceleration_resampled = acceleration.resample(freq).mean().interpolate()\n",
    "        gyroscope_resampled = gyroscope.resample(freq).mean().interpolate()\n",
    "        # Combine the two dataframes on the new common index\n",
    "        df_combined = pd.concat([acceleration_resampled, gyroscope_resampled], axis=1, join='inner')\n",
    "        # Reset index to make timestamp a column again if needed\n",
    "        df_combined.reset_index(inplace=True)\n",
    "        # Convert back to seconds for comparison to int in the loop\n",
    "        df_combined.timestamp = df_combined.timestamp.astype(int)*1e-9\n",
    "        df_combined.to_csv(f'3_combined/{id}/{recording}.csv',index=False)"
   ]
  },
  {
   "cell_type": "code",
   "execution_count": null,
   "metadata": {},
   "outputs": [],
   "source": [
    "for id in os.listdir(f'kuba_labels'):\n",
    "    recordings = sorted(os.listdir(f'kuba_labels/{id}'))\n",
    "    for recording in recordings:\n",
    "        command = f'cp kuba_labels/{id}/{recording}/labels.json 3_combined/{id}/{recording}.json'\n",
    "        print(command)\n",
    "        os.system(command)"
   ]
  },
  {
   "cell_type": "code",
   "execution_count": null,
   "metadata": {},
   "outputs": [],
   "source": [
    "import os\n",
    "os.listdir(f'4_cropped/14')"
   ]
  },
  {
   "cell_type": "code",
   "execution_count": null,
   "metadata": {},
   "outputs": [],
   "source": [
    "import os\n",
    "import json\n",
    "import pandas as pd\n",
    "import torch\n",
    "ACTIVITY_NAME_TO_CLASS_INDEX_MAPPING = {\n",
    "    'water':0,\n",
    "    'listerine':1,\n",
    "}\n",
    "\n",
    "for id in os.listdir(f'4_cropped')[4:]:\n",
    "    os.makedirs(f'5_vectored/{id}')\n",
    "    for recording in [recording.replace('.csv','') for recording in os.listdir(f'4_cropped/{id}') if recording.endswith('.csv')]:\n",
    "        if not os.path.exists(f'4_cropped/{id}/{recording}.json'):\n",
    "            print('labels dne')\n",
    "            continue\n",
    "        with open(f'4_cropped/{id}/{recording}.json','r') as f:\n",
    "            labels = json.load(f)\n",
    "        df = pd.read_csv(f'4_cropped/{id}/{recording}.csv')\n",
    "        bouts = []\n",
    "        y = torch.zeros(len(df)) - 1\n",
    "        for hand in labels:\n",
    "            for action in labels[hand]:\n",
    "                for bout in labels[hand][action]:\n",
    "                    if bout['start'] > 3600 or bout['end'] > 3600:\n",
    "                        print('here')\n",
    "                        continue\n",
    "                    if bout['start'] >= bout['end']:\n",
    "                        print(\"erroneous bout\",bout,hand,action)\n",
    "                        continue\n",
    "                    y[(df.timestamp > bout['start']) & (df.timestamp < bout['end'])] = ACTIVITY_NAME_TO_CLASS_INDEX_MAPPING[action]\n",
    "                    index = df[(df.timestamp > bout['start']) & (df.timestamp < bout['end'])].index\n",
    "                    start_idx = index[0]\n",
    "                    end_idx = index[-1]\n",
    "                    bouts.append({'start':start_idx,'end':end_idx,'label':action})\n",
    "        X = torch.from_numpy(df[['x','y','z','x_gyr','y_gyr','z_gyr']].values).float()\n",
    "        torch.save((X,y,bouts),f'5_vectored/{id}/{recording}.pt')  "
   ]
  },
  {
   "cell_type": "code",
   "execution_count": null,
   "metadata": {},
   "outputs": [],
   "source": [
    "import torch"
   ]
  },
  {
   "cell_type": "code",
   "execution_count": null,
   "metadata": {},
   "outputs": [],
   "source": [
    "fs = 100\n",
    "WINDOW_LENGTH_SECONDS = 2\n",
    "WINDOW_LENGTH_SAMPLES = WINDOW_LENGTH_SECONDS * fs\n",
    "ACTIVITY_NAME_TO_CLASS_INDEX_MAPPING = {\n",
    "    'water':0,\n",
    "    'listerine':1,\n",
    "}\n",
    "\n",
    "\n",
    "# if len(cat) == 0:\n",
    "    # continue\n",
    "\n",
    "torch.save((X,y),f'../6_windowsize_{WINDOW_LENGTH_SECONDS}/{PARTICIPANT_ID}/{RECORDING}')"
   ]
  },
  {
   "cell_type": "code",
   "execution_count": null,
   "metadata": {},
   "outputs": [],
   "source": [
    "meta"
   ]
  },
  {
   "cell_type": "code",
   "execution_count": null,
   "metadata": {},
   "outputs": [],
   "source": [
    "# PARTICIPANT_IDS = sorted(os.listdir(f'../1_label_vector'))\n",
    "\n",
    "import os\n",
    "for id in [int(id) for id in os.listdir(f'5_vectored')]:\n",
    "    os.makedirs(f'6_windowsize_{WINDOW_LENGTH_SECONDS}/{id}')\n",
    "\n",
    "    for recording in [int(recording.replace('.pt','')) for recording in os.listdir(f'5_vectored/{id}')]:\n",
    "        print(recording)\n",
    "        X,y,bouts = torch.load(f'5_vectored/{id}/{recording}.pt')\n",
    "        cat = []\n",
    "        y = []\n",
    "        meta = []\n",
    "        for bout in bouts:\n",
    "            for i in range(bout['start'],bout['end']-WINDOW_LENGTH_SAMPLES):\n",
    "                cat.append(X[i:i+WINDOW_LENGTH_SAMPLES])\n",
    "                y.append(ACTIVITY_NAME_TO_CLASS_INDEX_MAPPING[bout['label']])\n",
    "                meta.append((i,i+WINDOW_LENGTH_SAMPLES,id,recording))\n",
    "        X = torch.stack(cat)\n",
    "        y = torch.tensor(y).reshape(-1,1).float()\n",
    "        meta = torch.tensor(meta)\n",
    "        torch.save((X,y,bouts,meta),f'6_windowsize_{WINDOW_LENGTH_SECONDS}/{id}/{recording}.pt')"
   ]
  },
  {
   "cell_type": "code",
   "execution_count": null,
   "metadata": {},
   "outputs": [],
   "source": [
    "X,y,bouts,meta = torch.load(f'6_windowsize_2/9/0.pt')"
   ]
  }
 ],
 "metadata": {
  "kernelspec": {
   "display_name": "Python 3",
   "language": "python",
   "name": "python3"
  },
  "language_info": {
   "codemirror_mode": {
    "name": "ipython",
    "version": 3
   },
   "file_extension": ".py",
   "mimetype": "text/x-python",
   "name": "python",
   "nbconvert_exporter": "python",
   "pygments_lexer": "ipython3",
   "version": "3.12.3"
  }
 },
 "nbformat": 4,
 "nbformat_minor": 2
}
