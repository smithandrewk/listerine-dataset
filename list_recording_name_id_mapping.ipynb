{
 "cells": [
  {
   "cell_type": "code",
   "execution_count": 3,
   "metadata": {},
   "outputs": [
    {
     "name": "stdout",
     "output_type": "stream",
     "text": [
      "['Watch01_HannahBeffa_11', 'Watch02_CarlisleMoser_12', 'Watch04_OlivaWolverton_10', 'Watch22_MylaGill_16', 'Watch44_Luci_19', 'WatchA_13', 'WatchB_ ElizabethNease_15', 'ticwatch_e3_0145', 'ticwatch_e3_0178', 'ticwatch_e3_d', 'ticwatch_e_dt14', 'ticwatch_e_w02h', 'ticwatch_e_xa89', 'twp5_capital_e', 'twp5_e']\n"
     ]
    }
   ],
   "source": [
    "import os\n",
    "raw = sorted(os.listdir(f'data/0_raw'))\n",
    "print(raw)"
   ]
  },
  {
   "cell_type": "code",
   "execution_count": 6,
   "metadata": {},
   "outputs": [
    {
     "name": "stdout",
     "output_type": "stream",
     "text": [
      "0 2010-01-01_15_36_26\n",
      "1 2010-01-01_15_44_21\n",
      "2 2010-01-06_21_05_03\n",
      "3 2010-01-06_21_17_03\n",
      "4 2010-01-08_08_48_56\n",
      "5 2024-02-26_11_26_21\n",
      "6 2024-02-26_16_03_00\n",
      "7 2024-02-28_17_00_39\n",
      "8 2024-02-29_18_02_50\n",
      "9 2024-03-10_17_23_29\n"
     ]
    }
   ],
   "source": [
    "subdirs = sorted(os.listdir(f'data/1_renamed/0'))\n",
    "for i,subdir in enumerate(subdirs):\n",
    "    print(i,subdir)"
   ]
  }
 ],
 "metadata": {
  "kernelspec": {
   "display_name": "Python 3",
   "language": "python",
   "name": "python3"
  },
  "language_info": {
   "codemirror_mode": {
    "name": "ipython",
    "version": 3
   },
   "file_extension": ".py",
   "mimetype": "text/x-python",
   "name": "python",
   "nbconvert_exporter": "python",
   "pygments_lexer": "ipython3",
   "version": "3.10.12"
  }
 },
 "nbformat": 4,
 "nbformat_minor": 2
}
